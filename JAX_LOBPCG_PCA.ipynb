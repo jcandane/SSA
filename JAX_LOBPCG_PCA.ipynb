{
  "nbformat": 4,
  "nbformat_minor": 0,
  "metadata": {
    "colab": {
      "provenance": [],
      "authorship_tag": "ABX9TyOB8JIXEX1ts3U0XNBvjTxQ",
      "include_colab_link": true
    },
    "kernelspec": {
      "name": "python3",
      "display_name": "Python 3"
    },
    "language_info": {
      "name": "python"
    }
  },
  "cells": [
    {
      "cell_type": "markdown",
      "metadata": {
        "id": "view-in-github",
        "colab_type": "text"
      },
      "source": [
        "<a href=\"https://colab.research.google.com/github/jcandane/SSA/blob/main/JAX_LOBPCG_PCA.ipynb\" target=\"_parent\"><img src=\"https://colab.research.google.com/assets/colab-badge.svg\" alt=\"Open In Colab\"/></a>"
      ]
    },
    {
      "cell_type": "markdown",
      "source": [
        "# PCA on the Cloud"
      ],
      "metadata": {
        "id": "ehO20XiP080O"
      }
    },
    {
      "cell_type": "markdown",
      "source": [
        "# Lets do our imports of stuff we may need"
      ],
      "metadata": {
        "id": "ahSr7pEeBOpN"
      }
    },
    {
      "cell_type": "code",
      "source": [
        "### our GPU array library\n",
        "import jax\n",
        "jax.config.update(\"jax_enable_x64\", True)\n",
        "import jax.numpy as jnp\n",
        "from jax.experimental.sparse.linalg import lobpcg_standard as LOBPCG\n",
        "key = jax.random.PRNGKey(187)\n",
        "\n",
        "### our CPU array library\n",
        "import scipy\n",
        "import numpy as np\n",
        "import matplotlib.pyplot as plt\n",
        "from scipy.sparse.linalg import LinearOperator\n",
        "from scipy.linalg import orthogonal_procrustes\n",
        "from numpy import sum as Σ\n",
        "\n",
        "### method to compare to\n",
        "from sklearn.decomposition import PCA\n",
        "\n",
        "### our dataset\n",
        "try:\n",
        "    from gym_rings import get_rings\n",
        "except:\n",
        "    !wget https://raw.githubusercontent.com/jcandane/gym_rings/main/gym_rings.py\n",
        "    from gym_rings import get_rings\n",
        "### our Cloud Computing Service\n",
        "try:\n",
        "    import modal ##?\n",
        "except:\n",
        "    !pip install -q modal\n",
        "    import modal"
      ],
      "metadata": {
        "id": "pg8dIoJoGkqb"
      },
      "execution_count": 1,
      "outputs": []
    },
    {
      "cell_type": "markdown",
      "source": [
        "## Let's examine our data set"
      ],
      "metadata": {
        "id": "mdtkfEbiIyNg"
      }
    },
    {
      "cell_type": "code",
      "source": [
        "θs    = np.arange(0,360,1).reshape(-1,1).T\n",
        "R_ixy = get_rings(128, θs, jnp.array([[30,60]]), notch_width=15.)\n",
        "R_iz  = R_ixy.reshape(θs.size,-1)\n",
        "R_iX  = 1.*(R_iz)\n",
        "\n",
        "print( R_ixy.shape, type(R_ixy), type(R_iX) )\n",
        "\n",
        "# Create 8 subplots in one row\n",
        "plots = 8\n",
        "θ = np.linspace(0, len(R_iX)-1, plots+1, dtype=int)[:plots]\n",
        "fig, axes = plt.subplots(1, 8, figsize=(20, 3))  # Adjust figsize as needed\n",
        "for i, ax in enumerate(axes):\n",
        "    im = ax.imshow(R_ixy[θ[i]], interpolation='none', cmap='Greys')\n",
        "    ax.axis('off')  # Hide axes for a cleaner look\n",
        "plt.tight_layout()\n",
        "plt.show()"
      ],
      "metadata": {
        "colab": {
          "base_uri": "https://localhost:8080/",
          "height": 206
        },
        "id": "2I4vUpjLI1xV",
        "outputId": "b4e266c9-c950-48f0-e0fa-039f5a19f45b"
      },
      "execution_count": 2,
      "outputs": [
        {
          "output_type": "stream",
          "name": "stdout",
          "text": [
            "(360, 128, 128) <class 'numpy.ndarray'> <class 'numpy.ndarray'>\n"
          ]
        },
        {
          "output_type": "display_data",
          "data": {
            "text/plain": [
              "<Figure size 2000x300 with 8 Axes>"
            ],
            "image/png": "[encoded data removed]"
          },
          "metadata": {}
        }
      ]
    },
    {
      "cell_type": "markdown",
      "source": [
        "## Scikit-Learn Approch"
      ],
      "metadata": {
        "id": "jSeOdBuIJUHi"
      }
    },
    {
      "cell_type": "code",
      "source": [
        "pca   = PCA(n_components=2)\n",
        "X_pca = pca.fit_transform(R_iX)"
      ],
      "metadata": {
        "id": "n9wLdNvZJUQL"
      },
      "execution_count": 3,
      "outputs": []
    },
    {
      "cell_type": "markdown",
      "source": [
        "## NumPy+SciPy Approch"
      ],
      "metadata": {
        "id": "9KgMC1FkJRGR"
      }
    },
    {
      "cell_type": "code",
      "source": [
        "N = R_iX.shape[0]\n",
        "\n",
        "mean     = np.mean(R_iX, axis=0)\n",
        "cen_R_iy = R_iX - mean\n",
        "\n",
        "def mv(v):\n",
        "    return cen_R_iy.T @ (cen_R_iy @ v) / (N-1)\n",
        "A         = LinearOperator((R_iX.shape[1],R_iX.shape[1]), matvec=mv)\n",
        "S_i, R_yx = scipy.sparse.linalg.eigsh(A, k=2)\n",
        "\n",
        "idx  = np.argsort(S_i)[::-1]  # descending order\n",
        "S_i  = S_i[idx]\n",
        "R_yx = R_yx[:, idx]\n",
        "R_ix = cen_R_iy @ R_yx"
      ],
      "metadata": {
        "id": "ZsbmmM8ABOxT"
      },
      "execution_count": 4,
      "outputs": []
    },
    {
      "cell_type": "markdown",
      "source": [
        "## JAX Approch\n",
        "\n",
        "we use [`LOBPCG`](https://docs.jax.dev/en/latest/_autosummary/jax.experimental.sparse.linalg.lobpcg_standard.html)"
      ],
      "metadata": {
        "id": "Cq1zqFqaJjMj"
      }
    },
    {
      "cell_type": "code",
      "source": [
        "def PCA_LO(R: jax.Array, k: int):\n",
        "    N, D = R.shape\n",
        "\n",
        "    # Step 1: Center the data (column-wise)\n",
        "    mean = jnp.mean(R, axis=0, keepdims=True)\n",
        "    R_centered = R - mean\n",
        "\n",
        "    # Step 2: Define covariance matrix multiplication operator\n",
        "    def LO(v):  # v: shape (D, k)\n",
        "        return (R_centered.T @ (R_centered @ v)) / (N-1)\n",
        "\n",
        "    # Step 3: Initial guess (random orthonormal matrix)\n",
        "    key     = jax.random.PRNGKey(0)\n",
        "    init    = jax.random.normal(key, (D, k))\n",
        "    init, _ = jnp.linalg.qr(init)  # Orthonormalize\n",
        "\n",
        "    # Step 4: Run LOBPCG\n",
        "    result  = LOBPCG(LO, init)\n",
        "    eigvals = result[0]\n",
        "    eigvecs = result[1] #.eigenvectors\n",
        "\n",
        "    # Step 5: Sort eigenvectors by descending eigenvalue\n",
        "    idx      = jnp.argsort(-eigvals)\n",
        "    loadings = eigvecs[:, idx[:k]]  # shape (D, k)\n",
        "\n",
        "    # Step 6: Compute latents (project data onto loadings)\n",
        "    latents = R_centered @ loadings  # shape (N, k)\n",
        "\n",
        "    # Step 7: Return results\n",
        "    return latents, loadings, mean.squeeze()"
      ],
      "metadata": {
        "id": "8C4rY3sKBVt7"
      },
      "execution_count": 5,
      "outputs": []
    },
    {
      "cell_type": "code",
      "source": [
        "J_iX = jnp.array(R_iX) ### <<--- put R_iX on the GPU, lets call this differently\n",
        "\n",
        "J_ix, U_xX, μ_X = PCA_LO(J_iX, k=2)\n",
        "Z_ix            = J_ix @ U_xX.T + μ_X ### reconstructions\n",
        "\n",
        "J_ix.shape, Z_ix.shape"
      ],
      "metadata": {
        "colab": {
          "base_uri": "https://localhost:8080/"
        },
        "id": "bH7QDC5nBZiT",
        "outputId": "e938e766-fc8c-4e00-cb81-2a1469cdc48f"
      },
      "execution_count": 6,
      "outputs": [
        {
          "output_type": "execute_result",
          "data": {
            "text/plain": [
              "((360, 2), (360, 16384))"
            ]
          },
          "metadata": {},
          "execution_count": 6
        }
      ]
    },
    {
      "cell_type": "markdown",
      "source": [
        "## Compare Scikit-Learn, NumPy+SciPy, JAX:"
      ],
      "metadata": {
        "id": "xynBPUBBLOOT"
      }
    },
    {
      "cell_type": "code",
      "source": [
        "# Find optimal rotation (and scaling) to align your PCA with scikit-learn's\n",
        "R, scale = orthogonal_procrustes(R_ix, X_pca)\n",
        "R_ix_aligned = R_ix @ R  # shape (360, 2)\n",
        "\n",
        "# Now compare\n",
        "error = X_pca - R_ix_aligned\n",
        "print(\"Npy Max absolute error:\", np.max(np.abs(error)))\n",
        "print(\"Npy Mean squared error:\", np.mean(error**2))\n",
        "\n",
        "# Find optimal rotation (and scaling) to align your PCA with scikit-learn's\n",
        "R, scale     = orthogonal_procrustes(J_ix, X_pca)\n",
        "J_ix_aligned = J_ix @ R  # shape (360, 2) # Apply the transformation to your custom PCA\n",
        "\n",
        "# Now compare\n",
        "error = X_pca - J_ix_aligned\n",
        "print(\"JAX Max absolute error:\", np.max(np.abs(error)))\n",
        "print(\"JAX Mean squared error:\", np.mean(error**2))\n",
        "\n",
        "\n",
        "print(X_pca.dtype, J_ix.dtype, type(J_ix_aligned))\n",
        "plt.scatter(X_pca[:,0], X_pca[:,1], s=12, label=\"scikitlearn\")\n",
        "plt.scatter(R_ix_aligned[:,0], R_ix_aligned[:,1], s=6, label=\"scipy-LO\")\n",
        "plt.scatter(J_ix_aligned[:,0], J_ix_aligned[:,1], s=1, label=\"jax-LO\")\n",
        "plt.legend()\n",
        "plt.gca().set_aspect('equal')\n",
        "plt.show()"
      ],
      "metadata": {
        "colab": {
          "base_uri": "https://localhost:8080/",
          "height": 519
        },
        "id": "wDBBjcI1BfLM",
        "outputId": "8cebbfdc-7424-40aa-ced7-1c127d1502d0"
      },
      "execution_count": 7,
      "outputs": [
        {
          "output_type": "stream",
          "name": "stdout",
          "text": [
            "Npy Max absolute error: 0.0016239656364600563\n",
            "Npy Mean squared error: 5.537547563406665e-07\n",
            "JAX Max absolute error: 0.001623968106690299\n",
            "JAX Mean squared error: 5.537547514789421e-07\n",
            "float64 float64 <class 'jaxlib.xla_extension.ArrayImpl'>\n"
          ]
        },
        {
          "output_type": "display_data",
          "data": {
            "text/plain": [
              "<Figure size 640x480 with 1 Axes>"
            ],
            "image/png": "[encoded data removed]"
          },
          "metadata": {}
        }
      ]
    },
    {
      "cell_type": "markdown",
      "source": [
        "# now on the Modal cloud\n",
        "\n",
        "### inorder to send a ephermal app to Modal, we start by creating a folder/repo to send. lets call this directory `pca`"
      ],
      "metadata": {
        "id": "Hcs9oFO7Csy0"
      }
    },
    {
      "cell_type": "code",
      "source": [
        "!mkdir -p pca"
      ],
      "metadata": {
        "id": "YJrj2mFZBfNP"
      },
      "execution_count": 8,
      "outputs": []
    },
    {
      "cell_type": "markdown",
      "source": [
        "### Great now that we have the directory, we can use colab magic to create a python file with our core algorithm lets call this `pca_gpu.py`"
      ],
      "metadata": {
        "id": "kQNFJrCADSvq"
      }
    },
    {
      "cell_type": "code",
      "source": [
        "%%writefile pca/pca_gpu.py\n",
        "\n",
        "import jax\n",
        "jax.config.update(\"jax_enable_x64\", True) ### important because we are doing diagonalization!!!\n",
        "import jax.numpy as jnp\n",
        "from jax.experimental.sparse.linalg import lobpcg_standard as LOBPCG\n",
        "\n",
        "def PCA_LO(R: jax.Array, k: int):\n",
        "    N, D = R.shape\n",
        "\n",
        "    # Step 1: Center the data (column-wise)\n",
        "    mean = jnp.mean(R, axis=0, keepdims=True)\n",
        "    R_centered = R - mean\n",
        "\n",
        "    # Step 2: Define covariance matrix multiplication operator\n",
        "    def LO(v):  # v: shape (D, k)\n",
        "        return (R_centered.T @ (R_centered @ v)) / (N-1)\n",
        "\n",
        "    # Step 3: Initial guess (random orthonormal matrix)\n",
        "    key     = jax.random.PRNGKey(0)\n",
        "    init    = jax.random.normal(key, (D, k))\n",
        "    init, _ = jnp.linalg.qr(init)  # Orthonormalize\n",
        "\n",
        "    # Step 4: Run LOBPCG\n",
        "    result  = LOBPCG(LO, init)\n",
        "    eigvals = result[0]\n",
        "    eigvecs = result[1] #.eigenvectors\n",
        "\n",
        "    # Step 5: Sort eigenvectors by descending eigenvalue\n",
        "    idx      = jnp.argsort(-eigvals)\n",
        "    loadings = eigvecs[:, idx[:k]]  # shape (D, k)\n",
        "\n",
        "    # Step 6: Compute latents (project data onto loadings)\n",
        "    latents = R_centered @ loadings  # shape (N, k)\n",
        "\n",
        "    # Step 7: Return results\n",
        "    return latents, loadings, mean.squeeze()"
      ],
      "metadata": {
        "colab": {
          "base_uri": "https://localhost:8080/"
        },
        "id": "cwaPY1cMBfPe",
        "outputId": "f144e32e-2c0c-4c68-8634-e21ab696175e"
      },
      "execution_count": 9,
      "outputs": [
        {
          "output_type": "stream",
          "name": "stdout",
          "text": [
            "Overwriting pca/pca_gpu.py\n"
          ]
        }
      ]
    },
    {
      "cell_type": "code",
      "source": [
        "%%writefile pca/modal_app.py\n",
        "\n",
        "import modal\n",
        "\n",
        "jax_image = (\n",
        "    modal.Image.debian_slim()\n",
        "    .run_commands(\"pip install --upgrade pip\")\n",
        "    .run_commands(\n",
        "        \"pip install flax optax einops matplotlib numpy huggingface_hub jax[cuda12] --find-links https://storage.googleapis.com/jax-releases/jax_cuda_releases.html\"\n",
        "    )\n",
        ")\n",
        "\n",
        "app = modal.App(name=\"pca_app\")\n",
        "\n",
        "@app.function(image=jax_image, gpu=\"T4\", timeout=400)\n",
        "def train_remote(R, k:int):\n",
        "    import jax\n",
        "    jax.config.update(\"jax_enable_x64\", True)\n",
        "    from pca.pca_gpu import PCA_LO\n",
        "    return PCA_LO(R, k)"
      ],
      "metadata": {
        "colab": {
          "base_uri": "https://localhost:8080/"
        },
        "id": "P8cXADQu5ctd",
        "outputId": "1061be82-c7d5-44eb-eb65-edcbba647181"
      },
      "execution_count": 10,
      "outputs": [
        {
          "output_type": "stream",
          "name": "stdout",
          "text": [
            "Overwriting pca/modal_app.py\n"
          ]
        }
      ]
    },
    {
      "cell_type": "markdown",
      "source": [
        "### Nice our core code is above in `pca_gpu.py`, but let's now design out Modal Cloud VM. This is done with another python file `modal_app.py`, placed in the same folder/repo `pca` as our core code, e.g. `pca_gpu.py`. This `modal_app.py` is written in the same Colab magic:"
      ],
      "metadata": {
        "id": "jNdpqDbNDxgZ"
      }
    },
    {
      "cell_type": "markdown",
      "source": [
        "### Great! now we have our app ready to be deployed! but how does Modal know its us sending the job and not something else, e.g. our friend? ....\n",
        "### We need to put in our credentials.\n",
        "\n",
        "### Modal has two such credentials: `MODAL_TOKEN_ID` (it's me) and `MODAL_TOKEN_SECRET` (here's my password). These can be saved in a `.env` file if we work locally, or in Google-Colab we can save in secrets and access via `from google.colab import userdata`."
      ],
      "metadata": {
        "id": "8uCBv9_bE3de"
      }
    },
    {
      "cell_type": "code",
      "source": [
        "from google.colab import userdata\n",
        "\n",
        "id     = userdata.get(\"MODAL_TOKEN_ID\")\n",
        "secret = userdata.get(\"MODAL_TOKEN_SECRET\")"
      ],
      "metadata": {
        "id": "8ZhNybhzE3j4"
      },
      "execution_count": 11,
      "outputs": []
    },
    {
      "cell_type": "markdown",
      "source": [
        "### Next, I designed this python function to login you into Modal, just use as is:"
      ],
      "metadata": {
        "id": "WxCFeGeKFqz3"
      }
    },
    {
      "cell_type": "code",
      "source": [
        "def set_modal_tokens(token_id: str, token_secret: str):\n",
        "    import subprocess\n",
        "\n",
        "    cmd = [\n",
        "        \"modal\", \"token\", \"set\",\n",
        "        \"--token-id\", token_id,\n",
        "        \"--token-secret\", token_secret\n",
        "    ]\n",
        "    subprocess.run(cmd, check=True)\n",
        "    print(\"✅ Tokens configured successfully.\")\n",
        "    return None\n",
        "\n",
        "set_modal_tokens(id, secret)"
      ],
      "metadata": {
        "colab": {
          "base_uri": "https://localhost:8080/"
        },
        "id": "Aaz0YSe3FvSX",
        "outputId": "641e8697-8616-4780-faf7-caf1dbc4142d"
      },
      "execution_count": 12,
      "outputs": [
        {
          "output_type": "stream",
          "name": "stdout",
          "text": [
            "✅ Tokens configured successfully.\n"
          ]
        }
      ]
    },
    {
      "cell_type": "markdown",
      "source": [
        "### you may need to restart the notebook.\n",
        "\n",
        "### Now logined in, repo ready, you are ready to deploy on the cloud:"
      ],
      "metadata": {
        "id": "HnEJXZToF3v2"
      }
    },
    {
      "cell_type": "code",
      "source": [
        "from pca.modal_app import app, train_remote\n",
        "\n",
        "θs    = np.arange(0,360,1).reshape(-1,1).T\n",
        "R_ixy = get_rings(128, θs, jnp.array([[30,60]]), notch_width=15.)\n",
        "R_iz  = R_ixy.reshape(θs.size,-1)\n",
        "R_iX  = 1.*(R_iz)\n",
        "\n",
        "print( R_ixy.shape, type(R_ixy), type(R_iX) )\n",
        "\n",
        "# Create 8 subplots in one row\n",
        "plots = 8\n",
        "θ = np.linspace(0, len(R_iX)-1, plots+1, dtype=int)[:plots]\n",
        "fig, axes = plt.subplots(1, 8, figsize=(20, 3))  # Adjust figsize as needed\n",
        "for i, ax in enumerate(axes):\n",
        "    im = ax.imshow(R_ixy[θ[i]], interpolation='none', cmap='Greys')\n",
        "    ax.axis('off')  # Hide axes for a cleaner look\n",
        "plt.tight_layout()\n",
        "plt.show()\n",
        "\n",
        "J_iX = jnp.array(R_iX) ### <<--- put R_iX on the GPU, lets call this differently\n",
        "\n",
        "with app.run():  # ✅ Modal container lifecycle managed here\n",
        "    R_ix, U_xX, μ_X = train_remote.remote( J_iX, k=2 )"
      ],
      "metadata": {
        "id": "I7RVwrQpF59O",
        "colab": {
          "base_uri": "https://localhost:8080/",
          "height": 206
        },
        "outputId": "92543754-93c4-470c-aac9-457e8e13e88a"
      },
      "execution_count": 13,
      "outputs": [
        {
          "output_type": "stream",
          "name": "stdout",
          "text": [
            "(360, 128, 128) <class 'numpy.ndarray'> <class 'numpy.ndarray'>\n"
          ]
        },
        {
          "output_type": "display_data",
          "data": {
            "text/plain": [
              "<Figure size 2000x300 with 8 Axes>"
            ],
            "image/png": "[encoded data removed]"
          },
          "metadata": {}
        }
      ]
    },
    {
      "cell_type": "markdown",
      "source": [
        "### be patient the first run it has to construct the enviroment, however this is later cached (reused), before it actually runs your code!"
      ],
      "metadata": {
        "id": "N_8KcHs-HXre"
      }
    },
    {
      "cell_type": "code",
      "source": [
        "from scipy.linalg import orthogonal_procrustes\n",
        "\n",
        "# Find optimal rotation (and scaling) to align your PCA with scikit-learn's\n",
        "R, scale     = orthogonal_procrustes(R_ix, X_pca)\n",
        "R_ix_aligned = R_ix @ R  # shape (360, 2) # Apply the transformation to your custom PCA\n",
        "\n",
        "# Now compare\n",
        "error = X_pca - R_ix_aligned\n",
        "print(\"Max absolute error:\", np.max(np.abs(error)))\n",
        "print(\"Mean squared error:\", np.mean(error**2))\n",
        "print(X_pca.dtype, R_ix.dtype)\n",
        "\n",
        "plt.scatter(X_pca[:,0], X_pca[:,1], s=6, label=\"scikitlearn\")\n",
        "plt.scatter(R_ix_aligned[:,0], R_ix_aligned[:,1], s=2, label=\"jax-LO-Modal Cloud\")\n",
        "plt.legend()\n",
        "plt.gca().set_aspect('equal')\n",
        "plt.show()"
      ],
      "metadata": {
        "colab": {
          "base_uri": "https://localhost:8080/",
          "height": 484
        },
        "id": "jm9_WDuvHRgf",
        "outputId": "b8834397-df89-45c5-82b0-e6200ba9d6b6"
      },
      "execution_count": 14,
      "outputs": [
        {
          "output_type": "stream",
          "name": "stdout",
          "text": [
            "Max absolute error: 0.0016239659040966359\n",
            "Mean squared error: 5.537547533295046e-07\n",
            "float64 float64\n"
          ]
        },
        {
          "output_type": "display_data",
          "data": {
            "text/plain": [
              "<Figure size 640x480 with 1 Axes>"
            ],
            "image/png": "[encoded data removed]"
          },
          "metadata": {}
        }
      ]
    },
    {
      "cell_type": "code",
      "source": [],
      "metadata": {
        "id": "iXzasgyB7ULB"
      },
      "execution_count": 14,
      "outputs": []
    }
  ]
}